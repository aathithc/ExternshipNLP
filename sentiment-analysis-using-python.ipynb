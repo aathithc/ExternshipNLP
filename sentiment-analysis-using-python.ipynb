{
 "cells": [
  {
   "cell_type": "markdown",
   "id": "55c530ca",
   "metadata": {
    "papermill": {
     "duration": 0.005341,
     "end_time": "2023-07-18T04:22:11.011814",
     "exception": false,
     "start_time": "2023-07-18T04:22:11.006473",
     "status": "completed"
    },
    "tags": []
   },
   "source": [
    "Step 0. Read in Data and NLTK Basics¶\n"
   ]
  },
  {
   "cell_type": "code",
   "execution_count": 1,
   "id": "731c965e",
   "metadata": {
    "execution": {
     "iopub.execute_input": "2023-07-18T04:22:11.022739Z",
     "iopub.status.busy": "2023-07-18T04:22:11.022366Z",
     "iopub.status.idle": "2023-07-18T04:22:13.474365Z",
     "shell.execute_reply": "2023-07-18T04:22:13.472793Z"
    },
    "papermill": {
     "duration": 2.460923,
     "end_time": "2023-07-18T04:22:13.477365",
     "exception": false,
     "start_time": "2023-07-18T04:22:11.016442",
     "status": "completed"
    },
    "tags": []
   },
   "outputs": [
    {
     "name": "stderr",
     "output_type": "stream",
     "text": [
      "/opt/conda/lib/python3.10/site-packages/scipy/__init__.py:146: UserWarning: A NumPy version >=1.16.5 and <1.23.0 is required for this version of SciPy (detected version 1.23.5\n",
      "  warnings.warn(f\"A NumPy version >={np_minversion} and <{np_maxversion}\"\n"
     ]
    }
   ],
   "source": [
    "import pandas as pd\n",
    "import numpy as np\n",
    "import matplotlib.pyplot as plt\n",
    "import seaborn as sns\n",
    "\n",
    "plt.style.use('ggplot')\n",
    "\n",
    "import nltk"
   ]
  },
  {
   "cell_type": "code",
   "execution_count": 2,
   "id": "d9cd9cfb",
   "metadata": {
    "execution": {
     "iopub.execute_input": "2023-07-18T04:22:13.487928Z",
     "iopub.status.busy": "2023-07-18T04:22:13.487561Z",
     "iopub.status.idle": "2023-07-18T04:22:13.905186Z",
     "shell.execute_reply": "2023-07-18T04:22:13.903856Z"
    },
    "papermill": {
     "duration": 0.425791,
     "end_time": "2023-07-18T04:22:13.907801",
     "exception": false,
     "start_time": "2023-07-18T04:22:13.482010",
     "status": "completed"
    },
    "tags": []
   },
   "outputs": [
    {
     "name": "stdout",
     "output_type": "stream",
     "text": [
      "(9558, 18)\n",
      "(100, 18)\n"
     ]
    }
   ],
   "source": [
    "df = pd.read_csv('/kaggle/input/netflixdataset/netflix_titles_enriched.csv')\n",
    "print(df.shape)\n",
    "df = df.head(100)\n",
    "print(df.shape)"
   ]
  },
  {
   "cell_type": "code",
   "execution_count": 3,
   "id": "b62fc083",
   "metadata": {
    "execution": {
     "iopub.execute_input": "2023-07-18T04:22:13.918524Z",
     "iopub.status.busy": "2023-07-18T04:22:13.918097Z",
     "iopub.status.idle": "2023-07-18T04:22:13.950364Z",
     "shell.execute_reply": "2023-07-18T04:22:13.949304Z"
    },
    "papermill": {
     "duration": 0.041161,
     "end_time": "2023-07-18T04:22:13.953557",
     "exception": false,
     "start_time": "2023-07-18T04:22:13.912396",
     "status": "completed"
    },
    "tags": []
   },
   "outputs": [
    {
     "data": {
      "text/html": [
       "<div>\n",
       "<style scoped>\n",
       "    .dataframe tbody tr th:only-of-type {\n",
       "        vertical-align: middle;\n",
       "    }\n",
       "\n",
       "    .dataframe tbody tr th {\n",
       "        vertical-align: top;\n",
       "    }\n",
       "\n",
       "    .dataframe thead th {\n",
       "        text-align: right;\n",
       "    }\n",
       "</style>\n",
       "<table border=\"1\" class=\"dataframe\">\n",
       "  <thead>\n",
       "    <tr style=\"text-align: right;\">\n",
       "      <th></th>\n",
       "      <th>cast</th>\n",
       "      <th>type</th>\n",
       "      <th>title</th>\n",
       "      <th>country</th>\n",
       "      <th>date_added</th>\n",
       "      <th>release_year</th>\n",
       "      <th>description</th>\n",
       "      <th>director</th>\n",
       "      <th>duration</th>\n",
       "      <th>listed_in</th>\n",
       "      <th>rating</th>\n",
       "      <th>rottentomatoes_audience_score</th>\n",
       "      <th>Score</th>\n",
       "      <th>rottentomatoes_audience_#reviews</th>\n",
       "      <th>rottentomatoes_audience_review</th>\n",
       "      <th>rottentomatoes_tomatometer_score</th>\n",
       "      <th>rottentomatoes_critics_#reviews</th>\n",
       "      <th>Text</th>\n",
       "    </tr>\n",
       "  </thead>\n",
       "  <tbody>\n",
       "    <tr>\n",
       "      <th>0</th>\n",
       "      <td>Demián Bichir, Héctor Bonilla, Oscar Serrano, ...</td>\n",
       "      <td>Movie</td>\n",
       "      <td>7:19</td>\n",
       "      <td>Mexico</td>\n",
       "      <td>23-Dec-16</td>\n",
       "      <td>2016</td>\n",
       "      <td>After a devastating earthquake hits Mexico Cit...</td>\n",
       "      <td>Jorge Michel Grau</td>\n",
       "      <td>93 min</td>\n",
       "      <td>Dramas, International Movies</td>\n",
       "      <td>TV-MA</td>\n",
       "      <td>50.0</td>\n",
       "      <td>50.0</td>\n",
       "      <td>10</td>\n",
       "      <td>NaN</td>\n",
       "      <td>100.0</td>\n",
       "      <td>10.0</td>\n",
       "      <td>[{'Review': 'The intentions of this film are c...</td>\n",
       "    </tr>\n",
       "    <tr>\n",
       "      <th>1</th>\n",
       "      <td>Jim Sturgess, Kevin Spacey, Kate Bosworth, Aar...</td>\n",
       "      <td>Movie</td>\n",
       "      <td>21</td>\n",
       "      <td>United States</td>\n",
       "      <td>1-Jan-20</td>\n",
       "      <td>2008</td>\n",
       "      <td>A brilliant group of students become card-coun...</td>\n",
       "      <td>Robert Luketic</td>\n",
       "      <td>123 min</td>\n",
       "      <td>Dramas</td>\n",
       "      <td>PG-13</td>\n",
       "      <td>17.0</td>\n",
       "      <td>20.0</td>\n",
       "      <td>10</td>\n",
       "      <td>NaN</td>\n",
       "      <td>NaN</td>\n",
       "      <td>0.0</td>\n",
       "      <td>[{'Review': 'Empty calories, yes, but tasty en...</td>\n",
       "    </tr>\n",
       "    <tr>\n",
       "      <th>2</th>\n",
       "      <td>Samuel L. Jackson, John Heard, Kelly Rowan, Cl...</td>\n",
       "      <td>Movie</td>\n",
       "      <td>187</td>\n",
       "      <td>United States</td>\n",
       "      <td>1-Nov-19</td>\n",
       "      <td>1997</td>\n",
       "      <td>After one of his high school students attacks ...</td>\n",
       "      <td>Kevin Reynolds</td>\n",
       "      <td>119 min</td>\n",
       "      <td>Dramas</td>\n",
       "      <td>R</td>\n",
       "      <td>67.0</td>\n",
       "      <td>70.0</td>\n",
       "      <td>17500</td>\n",
       "      <td>NaN</td>\n",
       "      <td>30.0</td>\n",
       "      <td>27.0</td>\n",
       "      <td>[{'Review': 'Quote not available.', 'Date': 'M...</td>\n",
       "    </tr>\n",
       "    <tr>\n",
       "      <th>3</th>\n",
       "      <td>Rajneesh Duggal, Adah Sharma, Indraneil Sengup...</td>\n",
       "      <td>Movie</td>\n",
       "      <td>1920</td>\n",
       "      <td>India</td>\n",
       "      <td>15-Dec-17</td>\n",
       "      <td>2008</td>\n",
       "      <td>An architect and his wife move into a castle t...</td>\n",
       "      <td>Vikram Bhatt</td>\n",
       "      <td>143 min</td>\n",
       "      <td>Horror Movies, International Movies, Thrillers</td>\n",
       "      <td>TV-MA</td>\n",
       "      <td>31.0</td>\n",
       "      <td>30.0</td>\n",
       "      <td>175</td>\n",
       "      <td>NaN</td>\n",
       "      <td>NaN</td>\n",
       "      <td>0.0</td>\n",
       "      <td>[{'Review': 'Post-Raaz, Vikram Bhatt comes int...</td>\n",
       "    </tr>\n",
       "    <tr>\n",
       "      <th>4</th>\n",
       "      <td>Omar Epps, Kate Walsh, Miranda Cosgrove, Angus...</td>\n",
       "      <td>Movie</td>\n",
       "      <td>3022</td>\n",
       "      <td>United States</td>\n",
       "      <td>19-Mar-20</td>\n",
       "      <td>2019</td>\n",
       "      <td>Stranded when the Earth is suddenly destroyed ...</td>\n",
       "      <td>John Suits</td>\n",
       "      <td>91 min</td>\n",
       "      <td>Independent Movies, Sci-Fi &amp; Fantasy, Thrillers</td>\n",
       "      <td>R</td>\n",
       "      <td>57.0</td>\n",
       "      <td>60.0</td>\n",
       "      <td>175</td>\n",
       "      <td>NaN</td>\n",
       "      <td>NaN</td>\n",
       "      <td>0.0</td>\n",
       "      <td>[{'Review': 'Delivers enough tense atmospheric...</td>\n",
       "    </tr>\n",
       "  </tbody>\n",
       "</table>\n",
       "</div>"
      ],
      "text/plain": [
       "                                                cast   type title  \\\n",
       "0  Demián Bichir, Héctor Bonilla, Oscar Serrano, ...  Movie  7:19   \n",
       "1  Jim Sturgess, Kevin Spacey, Kate Bosworth, Aar...  Movie    21   \n",
       "2  Samuel L. Jackson, John Heard, Kelly Rowan, Cl...  Movie   187   \n",
       "3  Rajneesh Duggal, Adah Sharma, Indraneil Sengup...  Movie  1920   \n",
       "4  Omar Epps, Kate Walsh, Miranda Cosgrove, Angus...  Movie  3022   \n",
       "\n",
       "         country date_added  release_year  \\\n",
       "0         Mexico  23-Dec-16          2016   \n",
       "1  United States   1-Jan-20          2008   \n",
       "2  United States   1-Nov-19          1997   \n",
       "3          India  15-Dec-17          2008   \n",
       "4  United States  19-Mar-20          2019   \n",
       "\n",
       "                                         description           director  \\\n",
       "0  After a devastating earthquake hits Mexico Cit...  Jorge Michel Grau   \n",
       "1  A brilliant group of students become card-coun...     Robert Luketic   \n",
       "2  After one of his high school students attacks ...     Kevin Reynolds   \n",
       "3  An architect and his wife move into a castle t...       Vikram Bhatt   \n",
       "4  Stranded when the Earth is suddenly destroyed ...         John Suits   \n",
       "\n",
       "  duration                                        listed_in rating  \\\n",
       "0   93 min                     Dramas, International Movies  TV-MA   \n",
       "1  123 min                                           Dramas  PG-13   \n",
       "2  119 min                                           Dramas      R   \n",
       "3  143 min   Horror Movies, International Movies, Thrillers  TV-MA   \n",
       "4   91 min  Independent Movies, Sci-Fi & Fantasy, Thrillers      R   \n",
       "\n",
       "   rottentomatoes_audience_score  Score rottentomatoes_audience_#reviews  \\\n",
       "0                           50.0   50.0                               10   \n",
       "1                           17.0   20.0                               10   \n",
       "2                           67.0   70.0                            17500   \n",
       "3                           31.0   30.0                              175   \n",
       "4                           57.0   60.0                              175   \n",
       "\n",
       "  rottentomatoes_audience_review  rottentomatoes_tomatometer_score  \\\n",
       "0                            NaN                             100.0   \n",
       "1                            NaN                               NaN   \n",
       "2                            NaN                              30.0   \n",
       "3                            NaN                               NaN   \n",
       "4                            NaN                               NaN   \n",
       "\n",
       "   rottentomatoes_critics_#reviews  \\\n",
       "0                             10.0   \n",
       "1                              0.0   \n",
       "2                             27.0   \n",
       "3                              0.0   \n",
       "4                              0.0   \n",
       "\n",
       "                                                Text  \n",
       "0  [{'Review': 'The intentions of this film are c...  \n",
       "1  [{'Review': 'Empty calories, yes, but tasty en...  \n",
       "2  [{'Review': 'Quote not available.', 'Date': 'M...  \n",
       "3  [{'Review': 'Post-Raaz, Vikram Bhatt comes int...  \n",
       "4  [{'Review': 'Delivers enough tense atmospheric...  "
      ]
     },
     "execution_count": 3,
     "metadata": {},
     "output_type": "execute_result"
    }
   ],
   "source": [
    "df.head()"
   ]
  },
  {
   "cell_type": "code",
   "execution_count": 4,
   "id": "8f280439",
   "metadata": {
    "execution": {
     "iopub.execute_input": "2023-07-18T04:22:13.965210Z",
     "iopub.status.busy": "2023-07-18T04:22:13.964421Z",
     "iopub.status.idle": "2023-07-18T04:22:14.304703Z",
     "shell.execute_reply": "2023-07-18T04:22:14.303511Z"
    },
    "papermill": {
     "duration": 0.348721,
     "end_time": "2023-07-18T04:22:14.307169",
     "exception": false,
     "start_time": "2023-07-18T04:22:13.958448",
     "status": "completed"
    },
    "tags": []
   },
   "outputs": [
    {
     "data": {
      "image/png": "[encoded data removed]",
      "text/plain": [
       "<Figure size 1000x500 with 1 Axes>"
      ]
     },
     "metadata": {},
     "output_type": "display_data"
    }
   ],
   "source": [
    "ax = df['Score'].value_counts().sort_index() \\\n",
    "    .plot(kind='bar',\n",
    "          title='Count of Reviews by Score',\n",
    "          figsize=(10, 5))\n",
    "ax.set_xlabel('Review Stars')\n",
    "plt.show()"
   ]
  },
  {
   "cell_type": "code",
   "execution_count": 5,
   "id": "6615812a",
   "metadata": {
    "execution": {
     "iopub.execute_input": "2023-07-18T04:22:14.320459Z",
     "iopub.status.busy": "2023-07-18T04:22:14.320030Z",
     "iopub.status.idle": "2023-07-18T04:22:14.326105Z",
     "shell.execute_reply": "2023-07-18T04:22:14.324799Z"
    },
    "papermill": {
     "duration": 0.01759,
     "end_time": "2023-07-18T04:22:14.330549",
     "exception": false,
     "start_time": "2023-07-18T04:22:14.312959",
     "status": "completed"
    },
    "tags": []
   },
   "outputs": [
    {
     "name": "stdout",
     "output_type": "stream",
     "text": [
      "[{'Review': 'Families separated by border reunite for brief hugs.', 'Date': 'November 4, 2019', 'Rating': 'Rating: 3/5', 'Critic': 'Barbara Shulgasser', 'Network': 'Common Sense Media'}, {'Review': 'Heartbreaking, but full of hope. A compassionate and respectful view about the borders that separate us, and the bridges that can bring us closer together.', 'Date': 'November 2, 2019', 'Rating': 'Rating: 3/4', 'Critic': 'Rene Sanchez', 'Network': 'Cine Sin Fronteras'}, {'Review': 'A 3 Minute Hug is a good documentation of an event that more people around the U.S. should know about. But more context would have made the visuals more impactful.', 'Date': 'October 29, 2019', 'Critic': 'Joel Keller', 'Network': 'Decider'}]\n"
     ]
    }
   ],
   "source": [
    "example = df['Text'][50]\n",
    "print(example)"
   ]
  },
  {
   "cell_type": "code",
   "execution_count": 6,
   "id": "da9c2046",
   "metadata": {
    "execution": {
     "iopub.execute_input": "2023-07-18T04:22:14.342679Z",
     "iopub.status.busy": "2023-07-18T04:22:14.342198Z",
     "iopub.status.idle": "2023-07-18T04:22:14.365058Z",
     "shell.execute_reply": "2023-07-18T04:22:14.363804Z"
    },
    "papermill": {
     "duration": 0.031718,
     "end_time": "2023-07-18T04:22:14.367573",
     "exception": false,
     "start_time": "2023-07-18T04:22:14.335855",
     "status": "completed"
    },
    "tags": []
   },
   "outputs": [
    {
     "data": {
      "text/plain": [
       "['[',\n",
       " '{',\n",
       " \"'Review\",\n",
       " \"'\",\n",
       " ':',\n",
       " \"'Families\",\n",
       " 'separated',\n",
       " 'by',\n",
       " 'border',\n",
       " 'reunite']"
      ]
     },
     "execution_count": 6,
     "metadata": {},
     "output_type": "execute_result"
    }
   ],
   "source": [
    "tokens = nltk.word_tokenize(example)\n",
    "tokens[:10]"
   ]
  },
  {
   "cell_type": "code",
   "execution_count": 7,
   "id": "19e9258e",
   "metadata": {
    "execution": {
     "iopub.execute_input": "2023-07-18T04:22:14.379985Z",
     "iopub.status.busy": "2023-07-18T04:22:14.379564Z",
     "iopub.status.idle": "2023-07-18T04:22:14.529787Z",
     "shell.execute_reply": "2023-07-18T04:22:14.528665Z"
    },
    "papermill": {
     "duration": 0.159156,
     "end_time": "2023-07-18T04:22:14.532140",
     "exception": false,
     "start_time": "2023-07-18T04:22:14.372984",
     "status": "completed"
    },
    "tags": []
   },
   "outputs": [
    {
     "data": {
      "text/plain": [
       "[('[', 'RB'),\n",
       " ('{', '('),\n",
       " (\"'Review\", 'NN'),\n",
       " (\"'\", \"''\"),\n",
       " (':', ':'),\n",
       " (\"'Families\", 'NNS'),\n",
       " ('separated', 'VBN'),\n",
       " ('by', 'IN'),\n",
       " ('border', 'NN'),\n",
       " ('reunite', 'NN')]"
      ]
     },
     "execution_count": 7,
     "metadata": {},
     "output_type": "execute_result"
    }
   ],
   "source": [
    "tagged = nltk.pos_tag(tokens)\n",
    "tagged[:10]"
   ]
  },
  {
   "cell_type": "code",
   "execution_count": 8,
   "id": "c8eef447",
   "metadata": {
    "execution": {
     "iopub.execute_input": "2023-07-18T04:22:14.545769Z",
     "iopub.status.busy": "2023-07-18T04:22:14.545366Z",
     "iopub.status.idle": "2023-07-18T04:22:14.710641Z",
     "shell.execute_reply": "2023-07-18T04:22:14.709234Z"
    },
    "papermill": {
     "duration": 0.17483,
     "end_time": "2023-07-18T04:22:14.712988",
     "exception": false,
     "start_time": "2023-07-18T04:22:14.538158",
     "status": "completed"
    },
    "tags": []
   },
   "outputs": [
    {
     "name": "stdout",
     "output_type": "stream",
     "text": [
      "(S\n",
      "  [/RB\n",
      "  {/(\n",
      "  'Review/NN\n",
      "  '/''\n",
      "  :/:\n",
      "  'Families/NNS\n",
      "  separated/VBN\n",
      "  by/IN\n",
      "  border/NN\n",
      "  reunite/NN\n",
      "  for/IN\n",
      "  brief/NN\n",
      "  hugs/NNS\n",
      "  ./.\n",
      "  '/''\n",
      "  ,/,\n",
      "  'Date/NNP\n",
      "  '/POS\n",
      "  :/:\n",
      "  'November/POS\n",
      "  4/CD\n",
      "  ,/,\n",
      "  2019/CD\n",
      "  '/''\n",
      "  ,/,\n",
      "  'Rating/VBG\n",
      "  '/''\n",
      "  :/:\n",
      "  'Rating/NN\n",
      "  :/:\n",
      "  3/5/CD\n",
      "  '/''\n",
      "  ,/,\n",
      "  'Critic/JJ\n",
      "  '/POS\n",
      "  :/:\n",
      "  'Barbara/CD\n",
      "  (PERSON Shulgasser/NNP)\n",
      "  '/POS\n",
      "  ,/,\n",
      "  'Network/''\n",
      "  '/POS\n",
      "  :/:\n",
      "  'Common/CD\n",
      "  Sense/NNP\n",
      "  Media/NNP\n",
      "  '/POS\n",
      "  }/)\n",
      "  ,/,\n",
      "  {/(\n",
      "  'Review/POS\n",
      "  '/POS\n",
      "  :/:\n",
      "  'Heartbreaking/NN\n",
      "  ,/,\n",
      "  but/CC\n",
      "  full/JJ\n",
      "  of/IN\n",
      "  hope/NN\n",
      "  ./.\n",
      "  A/DT\n",
      "  compassionate/NN\n",
      "  and/CC\n",
      "  respectful/JJ\n",
      "  view/NN\n",
      "  about/IN\n",
      "  the/DT\n",
      "  borders/NNS\n",
      "  that/WDT\n",
      "  separate/VBP\n",
      "  us/PRP\n",
      "  ,/,\n",
      "  and/CC\n",
      "  the/DT\n",
      "  bridges/NNS\n",
      "  that/WDT\n",
      "  can/MD\n",
      "  bring/VB\n",
      "  us/PRP\n",
      "  closer/JJR\n",
      "  together/RB\n",
      "  ./.\n",
      "  '/''\n",
      "  ,/,\n",
      "  'Date/NNP\n",
      "  '/POS\n",
      "  :/:\n",
      "  'November/POS\n",
      "  2/CD\n",
      "  ,/,\n",
      "  2019/CD\n",
      "  '/''\n",
      "  ,/,\n",
      "  'Rating/VBG\n",
      "  '/''\n",
      "  :/:\n",
      "  'Rating/NN\n",
      "  :/:\n",
      "  3/4/CD\n",
      "  '/''\n",
      "  ,/,\n",
      "  'Critic/JJ\n",
      "  '/POS\n",
      "  :/:\n",
      "  'Rene/CD\n",
      "  (PERSON Sanchez/NNP)\n",
      "  '/POS\n",
      "  ,/,\n",
      "  'Network/''\n",
      "  '/POS\n",
      "  :/:\n",
      "  'Cine/CD\n",
      "  (PERSON Sin/NNP Fronteras/NNP)\n",
      "  '/POS\n",
      "  }/)\n",
      "  ,/,\n",
      "  {/(\n",
      "  'Review/POS\n",
      "  '/POS\n",
      "  :/:\n",
      "  'A/POS\n",
      "  3/CD\n",
      "  (ORGANIZATION Minute/NNP Hug/NNP)\n",
      "  is/VBZ\n",
      "  a/DT\n",
      "  good/JJ\n",
      "  documentation/NN\n",
      "  of/IN\n",
      "  an/DT\n",
      "  event/NN\n",
      "  that/IN\n",
      "  more/JJR\n",
      "  people/NNS\n",
      "  around/IN\n",
      "  the/DT\n",
      "  (GPE U.S./NNP)\n",
      "  should/MD\n",
      "  know/VB\n",
      "  about/IN\n",
      "  ./.\n",
      "  But/CC\n",
      "  more/JJR\n",
      "  context/NN\n",
      "  would/MD\n",
      "  have/VB\n",
      "  made/VBN\n",
      "  the/DT\n",
      "  visuals/NNS\n",
      "  more/RBR\n",
      "  impactful/JJ\n",
      "  ./.\n",
      "  '/''\n",
      "  ,/,\n",
      "  'Date/NNP\n",
      "  '/POS\n",
      "  :/:\n",
      "  'October/POS\n",
      "  29/CD\n",
      "  ,/,\n",
      "  2019/CD\n",
      "  '/''\n",
      "  ,/,\n",
      "  'Critic/JJ\n",
      "  '/POS\n",
      "  :/:\n",
      "  'Joel/CD\n",
      "  (PERSON Keller/NNP)\n",
      "  '/POS\n",
      "  ,/,\n",
      "  'Network/''\n",
      "  '/POS\n",
      "  :/:\n",
      "  'Decider/NN\n",
      "  '/''\n",
      "  }/)\n",
      "  ]/VBP)\n"
     ]
    }
   ],
   "source": [
    "entities = nltk.chunk.ne_chunk(tagged)\n",
    "entities.pprint()"
   ]
  },
  {
   "cell_type": "code",
   "execution_count": 9,
   "id": "e15b58cc",
   "metadata": {
    "execution": {
     "iopub.execute_input": "2023-07-18T04:22:14.726579Z",
     "iopub.status.busy": "2023-07-18T04:22:14.726141Z",
     "iopub.status.idle": "2023-07-18T04:22:14.761433Z",
     "shell.execute_reply": "2023-07-18T04:22:14.760000Z"
    },
    "papermill": {
     "duration": 0.044783,
     "end_time": "2023-07-18T04:22:14.763645",
     "exception": false,
     "start_time": "2023-07-18T04:22:14.718862",
     "status": "completed"
    },
    "tags": []
   },
   "outputs": [
    {
     "name": "stderr",
     "output_type": "stream",
     "text": [
      "/opt/conda/lib/python3.10/site-packages/nltk/twitter/__init__.py:20: UserWarning: The twython library has not been installed. Some functionality from the twitter package will not be available.\n",
      "  warnings.warn(\"The twython library has not been installed. \"\n"
     ]
    }
   ],
   "source": [
    "from nltk.sentiment import SentimentIntensityAnalyzer\n",
    "from tqdm.notebook import tqdm\n",
    "\n",
    "sia = SentimentIntensityAnalyzer()"
   ]
  },
  {
   "cell_type": "code",
   "execution_count": 10,
   "id": "003998f9",
   "metadata": {
    "execution": {
     "iopub.execute_input": "2023-07-18T04:22:14.779124Z",
     "iopub.status.busy": "2023-07-18T04:22:14.778449Z",
     "iopub.status.idle": "2023-07-18T04:22:14.785576Z",
     "shell.execute_reply": "2023-07-18T04:22:14.784485Z"
    },
    "papermill": {
     "duration": 0.016849,
     "end_time": "2023-07-18T04:22:14.787865",
     "exception": false,
     "start_time": "2023-07-18T04:22:14.771016",
     "status": "completed"
    },
    "tags": []
   },
   "outputs": [
    {
     "data": {
      "text/plain": [
       "{'neg': 0.0, 'neu': 0.318, 'pos': 0.682, 'compound': 0.6468}"
      ]
     },
     "execution_count": 10,
     "metadata": {},
     "output_type": "execute_result"
    }
   ],
   "source": [
    "sia.polarity_scores('I am so happy!')"
   ]
  },
  {
   "cell_type": "code",
   "execution_count": 11,
   "id": "3f8a950c",
   "metadata": {
    "execution": {
     "iopub.execute_input": "2023-07-18T04:22:14.801438Z",
     "iopub.status.busy": "2023-07-18T04:22:14.800732Z",
     "iopub.status.idle": "2023-07-18T04:22:15.210439Z",
     "shell.execute_reply": "2023-07-18T04:22:15.209052Z"
    },
    "papermill": {
     "duration": 0.419044,
     "end_time": "2023-07-18T04:22:15.212784",
     "exception": false,
     "start_time": "2023-07-18T04:22:14.793740",
     "status": "completed"
    },
    "tags": []
   },
   "outputs": [
    {
     "data": {
      "application/vnd.jupyter.widget-view+json": {
       "model_id": "5e591ce5039d419b9656ce3cf12a989c",
       "version_major": 2,
       "version_minor": 0
      },
      "text/plain": [
       "  0%|          | 0/100 [00:00<?, ?it/s]"
      ]
     },
     "metadata": {},
     "output_type": "display_data"
    }
   ],
   "source": [
    "res = {}\n",
    "for i, row in tqdm(df.iterrows(), total=len(df)):\n",
    "    text = row['Text']\n",
    "    myid = row['Score']\n",
    "    res[myid] = sia.polarity_scores(text)"
   ]
  },
  {
   "cell_type": "code",
   "execution_count": 12,
   "id": "034b1703",
   "metadata": {
    "execution": {
     "iopub.execute_input": "2023-07-18T04:22:15.227590Z",
     "iopub.status.busy": "2023-07-18T04:22:15.227181Z",
     "iopub.status.idle": "2023-07-18T04:22:15.246916Z",
     "shell.execute_reply": "2023-07-18T04:22:15.245710Z"
    },
    "papermill": {
     "duration": 0.029642,
     "end_time": "2023-07-18T04:22:15.249285",
     "exception": false,
     "start_time": "2023-07-18T04:22:15.219643",
     "status": "completed"
    },
    "tags": []
   },
   "outputs": [],
   "source": [
    "vaders = pd.DataFrame(res).T\n",
    "vaders = vaders.reset_index().rename(columns={'index': 'Score'})\n",
    "vaders = vaders.merge(df, how='left')"
   ]
  },
  {
   "cell_type": "code",
   "execution_count": 13,
   "id": "4c473d4c",
   "metadata": {
    "execution": {
     "iopub.execute_input": "2023-07-18T04:22:15.263160Z",
     "iopub.status.busy": "2023-07-18T04:22:15.262801Z",
     "iopub.status.idle": "2023-07-18T04:22:15.289766Z",
     "shell.execute_reply": "2023-07-18T04:22:15.288661Z"
    },
    "papermill": {
     "duration": 0.036788,
     "end_time": "2023-07-18T04:22:15.292127",
     "exception": false,
     "start_time": "2023-07-18T04:22:15.255339",
     "status": "completed"
    },
    "tags": []
   },
   "outputs": [
    {
     "data": {
      "text/html": [
       "<div>\n",
       "<style scoped>\n",
       "    .dataframe tbody tr th:only-of-type {\n",
       "        vertical-align: middle;\n",
       "    }\n",
       "\n",
       "    .dataframe tbody tr th {\n",
       "        vertical-align: top;\n",
       "    }\n",
       "\n",
       "    .dataframe thead th {\n",
       "        text-align: right;\n",
       "    }\n",
       "</style>\n",
       "<table border=\"1\" class=\"dataframe\">\n",
       "  <thead>\n",
       "    <tr style=\"text-align: right;\">\n",
       "      <th></th>\n",
       "      <th>Score</th>\n",
       "      <th>neg</th>\n",
       "      <th>neu</th>\n",
       "      <th>pos</th>\n",
       "      <th>compound</th>\n",
       "      <th>cast</th>\n",
       "      <th>type</th>\n",
       "      <th>title</th>\n",
       "      <th>country</th>\n",
       "      <th>date_added</th>\n",
       "      <th>...</th>\n",
       "      <th>director</th>\n",
       "      <th>duration</th>\n",
       "      <th>listed_in</th>\n",
       "      <th>rating</th>\n",
       "      <th>rottentomatoes_audience_score</th>\n",
       "      <th>rottentomatoes_audience_#reviews</th>\n",
       "      <th>rottentomatoes_audience_review</th>\n",
       "      <th>rottentomatoes_tomatometer_score</th>\n",
       "      <th>rottentomatoes_critics_#reviews</th>\n",
       "      <th>Text</th>\n",
       "    </tr>\n",
       "  </thead>\n",
       "  <tbody>\n",
       "    <tr>\n",
       "      <th>0</th>\n",
       "      <td>50.0</td>\n",
       "      <td>0.063</td>\n",
       "      <td>0.846</td>\n",
       "      <td>0.091</td>\n",
       "      <td>0.9364</td>\n",
       "      <td>Demián Bichir, Héctor Bonilla, Oscar Serrano, ...</td>\n",
       "      <td>Movie</td>\n",
       "      <td>7:19</td>\n",
       "      <td>Mexico</td>\n",
       "      <td>23-Dec-16</td>\n",
       "      <td>...</td>\n",
       "      <td>Jorge Michel Grau</td>\n",
       "      <td>93 min</td>\n",
       "      <td>Dramas, International Movies</td>\n",
       "      <td>TV-MA</td>\n",
       "      <td>50.0</td>\n",
       "      <td>10</td>\n",
       "      <td>NaN</td>\n",
       "      <td>100.0</td>\n",
       "      <td>10.0</td>\n",
       "      <td>[{'Review': 'The intentions of this film are c...</td>\n",
       "    </tr>\n",
       "    <tr>\n",
       "      <th>1</th>\n",
       "      <td>50.0</td>\n",
       "      <td>0.063</td>\n",
       "      <td>0.846</td>\n",
       "      <td>0.091</td>\n",
       "      <td>0.9364</td>\n",
       "      <td>Nesta Cooper, Kate Walsh, John Michael Higgins...</td>\n",
       "      <td>Movie</td>\n",
       "      <td>#realityhigh</td>\n",
       "      <td>United States</td>\n",
       "      <td>8-Sep-17</td>\n",
       "      <td>...</td>\n",
       "      <td>Fernando Lebrija</td>\n",
       "      <td>99 min</td>\n",
       "      <td>Comedies</td>\n",
       "      <td>TV-14</td>\n",
       "      <td>51.0</td>\n",
       "      <td>175</td>\n",
       "      <td>NaN</td>\n",
       "      <td>40.0</td>\n",
       "      <td>5.0</td>\n",
       "      <td>[{'Review': \"It's as boring as Saturday school...</td>\n",
       "    </tr>\n",
       "    <tr>\n",
       "      <th>2</th>\n",
       "      <td>50.0</td>\n",
       "      <td>0.063</td>\n",
       "      <td>0.846</td>\n",
       "      <td>0.091</td>\n",
       "      <td>0.9364</td>\n",
       "      <td>Sam Upton, Jared Abrahamson, Mark Boone Junior...</td>\n",
       "      <td>Movie</td>\n",
       "      <td>12 ROUND GUN</td>\n",
       "      <td>United States</td>\n",
       "      <td>14-Mar-19</td>\n",
       "      <td>...</td>\n",
       "      <td>Sam Upton</td>\n",
       "      <td>90 min</td>\n",
       "      <td>Dramas, Independent Movies, Sports Movies</td>\n",
       "      <td>TV-MA</td>\n",
       "      <td>54.0</td>\n",
       "      <td>10</td>\n",
       "      <td>NaN</td>\n",
       "      <td>NaN</td>\n",
       "      <td>0.0</td>\n",
       "      <td>[{'Review': 'Well-made, but uninspired, the fi...</td>\n",
       "    </tr>\n",
       "    <tr>\n",
       "      <th>3</th>\n",
       "      <td>50.0</td>\n",
       "      <td>0.063</td>\n",
       "      <td>0.846</td>\n",
       "      <td>0.091</td>\n",
       "      <td>0.9364</td>\n",
       "      <td>Mark Webber, Rutina Wesley, Devon Graye, Tom B...</td>\n",
       "      <td>Movie</td>\n",
       "      <td>13 Sins</td>\n",
       "      <td>United States</td>\n",
       "      <td>13-Jan-19</td>\n",
       "      <td>...</td>\n",
       "      <td>Daniel Stamm</td>\n",
       "      <td>93 min</td>\n",
       "      <td>Horror Movies, Thrillers</td>\n",
       "      <td>R</td>\n",
       "      <td>45.0</td>\n",
       "      <td>7500</td>\n",
       "      <td>NaN</td>\n",
       "      <td>65.0</td>\n",
       "      <td>43.0</td>\n",
       "      <td>[{'Review': 'The overall effect is enormously ...</td>\n",
       "    </tr>\n",
       "    <tr>\n",
       "      <th>4</th>\n",
       "      <td>50.0</td>\n",
       "      <td>0.063</td>\n",
       "      <td>0.846</td>\n",
       "      <td>0.091</td>\n",
       "      <td>0.9364</td>\n",
       "      <td>Donnie Yen, Zhao Wei, Wu Chun, Law Kar-Ying, K...</td>\n",
       "      <td>Movie</td>\n",
       "      <td>14 Blades</td>\n",
       "      <td>Hong Kong, China, Singapore</td>\n",
       "      <td>3-Apr-19</td>\n",
       "      <td>...</td>\n",
       "      <td>Daniel Lee</td>\n",
       "      <td>113 min</td>\n",
       "      <td>Action &amp; Adventure, International Movies</td>\n",
       "      <td>R</td>\n",
       "      <td>52.0</td>\n",
       "      <td>1750</td>\n",
       "      <td>NaN</td>\n",
       "      <td>69.0</td>\n",
       "      <td>13.0</td>\n",
       "      <td>[{'Review': \"Director, co-writer and productio...</td>\n",
       "    </tr>\n",
       "  </tbody>\n",
       "</table>\n",
       "<p>5 rows × 22 columns</p>\n",
       "</div>"
      ],
      "text/plain": [
       "   Score    neg    neu    pos  compound  \\\n",
       "0   50.0  0.063  0.846  0.091    0.9364   \n",
       "1   50.0  0.063  0.846  0.091    0.9364   \n",
       "2   50.0  0.063  0.846  0.091    0.9364   \n",
       "3   50.0  0.063  0.846  0.091    0.9364   \n",
       "4   50.0  0.063  0.846  0.091    0.9364   \n",
       "\n",
       "                                                cast   type         title  \\\n",
       "0  Demián Bichir, Héctor Bonilla, Oscar Serrano, ...  Movie          7:19   \n",
       "1  Nesta Cooper, Kate Walsh, John Michael Higgins...  Movie  #realityhigh   \n",
       "2  Sam Upton, Jared Abrahamson, Mark Boone Junior...  Movie  12 ROUND GUN   \n",
       "3  Mark Webber, Rutina Wesley, Devon Graye, Tom B...  Movie       13 Sins   \n",
       "4  Donnie Yen, Zhao Wei, Wu Chun, Law Kar-Ying, K...  Movie     14 Blades   \n",
       "\n",
       "                       country date_added  ...           director duration  \\\n",
       "0                       Mexico  23-Dec-16  ...  Jorge Michel Grau   93 min   \n",
       "1                United States   8-Sep-17  ...   Fernando Lebrija   99 min   \n",
       "2                United States  14-Mar-19  ...          Sam Upton   90 min   \n",
       "3                United States  13-Jan-19  ...       Daniel Stamm   93 min   \n",
       "4  Hong Kong, China, Singapore   3-Apr-19  ...         Daniel Lee  113 min   \n",
       "\n",
       "                                   listed_in rating  \\\n",
       "0               Dramas, International Movies  TV-MA   \n",
       "1                                   Comedies  TV-14   \n",
       "2  Dramas, Independent Movies, Sports Movies  TV-MA   \n",
       "3                   Horror Movies, Thrillers      R   \n",
       "4   Action & Adventure, International Movies      R   \n",
       "\n",
       "  rottentomatoes_audience_score rottentomatoes_audience_#reviews  \\\n",
       "0                          50.0                               10   \n",
       "1                          51.0                              175   \n",
       "2                          54.0                               10   \n",
       "3                          45.0                             7500   \n",
       "4                          52.0                             1750   \n",
       "\n",
       "   rottentomatoes_audience_review rottentomatoes_tomatometer_score  \\\n",
       "0                             NaN                            100.0   \n",
       "1                             NaN                             40.0   \n",
       "2                             NaN                              NaN   \n",
       "3                             NaN                             65.0   \n",
       "4                             NaN                             69.0   \n",
       "\n",
       "  rottentomatoes_critics_#reviews  \\\n",
       "0                            10.0   \n",
       "1                             5.0   \n",
       "2                             0.0   \n",
       "3                            43.0   \n",
       "4                            13.0   \n",
       "\n",
       "                                                Text  \n",
       "0  [{'Review': 'The intentions of this film are c...  \n",
       "1  [{'Review': \"It's as boring as Saturday school...  \n",
       "2  [{'Review': 'Well-made, but uninspired, the fi...  \n",
       "3  [{'Review': 'The overall effect is enormously ...  \n",
       "4  [{'Review': \"Director, co-writer and productio...  \n",
       "\n",
       "[5 rows x 22 columns]"
      ]
     },
     "execution_count": 13,
     "metadata": {},
     "output_type": "execute_result"
    }
   ],
   "source": [
    "# Now we have sentiment score and metadata\n",
    "vaders.head()\n"
   ]
  },
  {
   "cell_type": "code",
   "execution_count": 14,
   "id": "3f90ca87",
   "metadata": {
    "execution": {
     "iopub.execute_input": "2023-07-18T04:22:15.306808Z",
     "iopub.status.busy": "2023-07-18T04:22:15.306379Z",
     "iopub.status.idle": "2023-07-18T04:22:15.803343Z",
     "shell.execute_reply": "2023-07-18T04:22:15.802127Z"
    },
    "papermill": {
     "duration": 0.507155,
     "end_time": "2023-07-18T04:22:15.805714",
     "exception": false,
     "start_time": "2023-07-18T04:22:15.298559",
     "status": "completed"
    },
    "tags": []
   },
   "outputs": [
    {
     "data": {
      "image/png": "[encoded data removed]",
      "text/plain": [
       "<Figure size 640x480 with 1 Axes>"
      ]
     },
     "metadata": {},
     "output_type": "display_data"
    }
   ],
   "source": [
    "ax = sns.barplot(data=vaders, x='Score', y='compound')\n",
    "ax.set_title('Compund Score by Rotten Tomato Score')\n",
    "plt.show()"
   ]
  },
  {
   "cell_type": "code",
   "execution_count": 15,
   "id": "693baf3f",
   "metadata": {
    "execution": {
     "iopub.execute_input": "2023-07-18T04:22:15.821258Z",
     "iopub.status.busy": "2023-07-18T04:22:15.820849Z",
     "iopub.status.idle": "2023-07-18T04:22:17.228030Z",
     "shell.execute_reply": "2023-07-18T04:22:17.226651Z"
    },
    "papermill": {
     "duration": 1.41741,
     "end_time": "2023-07-18T04:22:17.230220",
     "exception": false,
     "start_time": "2023-07-18T04:22:15.812810",
     "status": "completed"
    },
    "tags": []
   },
   "outputs": [
    {
     "data": {
      "image/png": "[encoded data removed]",
      "text/plain": [
       "<Figure size 1200x300 with 3 Axes>"
      ]
     },
     "metadata": {},
     "output_type": "display_data"
    }
   ],
   "source": [
    "fig, axs = plt.subplots(1, 3, figsize=(12, 3))\n",
    "sns.barplot(data=vaders, x='Score', y='pos', ax=axs[0])\n",
    "sns.barplot(data=vaders, x='Score', y='neu', ax=axs[1])\n",
    "sns.barplot(data=vaders, x='Score', y='neg', ax=axs[2])\n",
    "axs[0].set_title('Positive')\n",
    "axs[1].set_title('Neutral')\n",
    "axs[2].set_title('Negative')\n",
    "plt.tight_layout()\n",
    "plt.show()\n"
   ]
  }
 ],
 "metadata": {
  "kernelspec": {
   "display_name": "Python 3",
   "language": "python",
   "name": "python3"
  },
  "language_info": {
   "codemirror_mode": {
    "name": "ipython",
    "version": 3
   },
   "file_extension": ".py",
   "mimetype": "text/x-python",
   "name": "python",
   "nbconvert_exporter": "python",
   "pygments_lexer": "ipython3",
   "version": "3.10.12"
  },
  "papermill": {
   "default_parameters": {},
   "duration": 17.198053,
   "end_time": "2023-07-18T04:22:18.360528",
   "environment_variables": {},
   "exception": null,
   "input_path": "__notebook__.ipynb",
   "output_path": "__notebook__.ipynb",
   "parameters": {},
   "start_time": "2023-07-18T04:22:01.162475",
   "version": "2.4.0"
  },
  "widgets": {
   "application/vnd.jupyter.widget-state+json": {
    "state": {
     "16d6b2311f374f37969b41882a73c5ec": {
      "model_module": "@jupyter-widgets/controls",
      "model_module_version": "1.5.0",
      "model_name": "HTMLModel",
      "state": {
       "_dom_classes": [],
       "_model_module": "@jupyter-widgets/controls",
       "_model_module_version": "1.5.0",
       "_model_name": "HTMLModel",
       "_view_count": null,
       "_view_module": "@jupyter-widgets/controls",
       "_view_module_version": "1.5.0",
       "_view_name": "HTMLView",
       "description": "",
       "description_tooltip": null,
       "layout": "IPY_MODEL_3fc2cfd79cbe435ba747e638fd2960d8",
       "placeholder": "​",
       "style": "IPY_MODEL_a7b02b68d37d4282a8b6e73ee2ae5f22",
       "value": " 100/100 [00:00&lt;00:00, 248.00it/s]"
      }
     },
     "3fc2cfd79cbe435ba747e638fd2960d8": {
      "model_module": "@jupyter-widgets/base",
      "model_module_version": "1.2.0",
      "model_name": "LayoutModel",
      "state": {
       "_model_module": "@jupyter-widgets/base",
       "_model_module_version": "1.2.0",
       "_model_name": "LayoutModel",
       "_view_count": null,
       "_view_module": "@jupyter-widgets/base",
       "_view_module_version": "1.2.0",
       "_view_name": "LayoutView",
       "align_content": null,
       "align_items": null,
       "align_self": null,
       "border": null,
       "bottom": null,
       "display": null,
       "flex": null,
       "flex_flow": null,
       "grid_area": null,
       "grid_auto_columns": null,
       "grid_auto_flow": null,
       "grid_auto_rows": null,
       "grid_column": null,
       "grid_gap": null,
       "grid_row": null,
       "grid_template_areas": null,
       "grid_template_columns": null,
       "grid_template_rows": null,
       "height": null,
       "justify_content": null,
       "justify_items": null,
       "left": null,
       "margin": null,
       "max_height": null,
       "max_width": null,
       "min_height": null,
       "min_width": null,
       "object_fit": null,
       "object_position": null,
       "order": null,
       "overflow": null,
       "overflow_x": null,
       "overflow_y": null,
       "padding": null,
       "right": null,
       "top": null,
       "visibility": null,
       "width": null
      }
     },
     "5e591ce5039d419b9656ce3cf12a989c": {
      "model_module": "@jupyter-widgets/controls",
      "model_module_version": "1.5.0",
      "model_name": "HBoxModel",
      "state": {
       "_dom_classes": [],
       "_model_module": "@jupyter-widgets/controls",
       "_model_module_version": "1.5.0",
       "_model_name": "HBoxModel",
       "_view_count": null,
       "_view_module": "@jupyter-widgets/controls",
       "_view_module_version": "1.5.0",
       "_view_name": "HBoxView",
       "box_style": "",
       "children": [
        "IPY_MODEL_8a5bac351230450d92e028d55b991a96",
        "IPY_MODEL_fe97ade4ecf140dca1b461f4ff663555",
        "IPY_MODEL_16d6b2311f374f37969b41882a73c5ec"
       ],
       "layout": "IPY_MODEL_71b35d1ce918482488426a9e6a5220c4"
      }
     },
     "71b35d1ce918482488426a9e6a5220c4": {
      "model_module": "@jupyter-widgets/base",
      "model_module_version": "1.2.0",
      "model_name": "LayoutModel",
      "state": {
       "_model_module": "@jupyter-widgets/base",
       "_model_module_version": "1.2.0",
       "_model_name": "LayoutModel",
       "_view_count": null,
       "_view_module": "@jupyter-widgets/base",
       "_view_module_version": "1.2.0",
       "_view_name": "LayoutView",
       "align_content": null,
       "align_items": null,
       "align_self": null,
       "border": null,
       "bottom": null,
       "display": null,
       "flex": null,
       "flex_flow": null,
       "grid_area": null,
       "grid_auto_columns": null,
       "grid_auto_flow": null,
       "grid_auto_rows": null,
       "grid_column": null,
       "grid_gap": null,
       "grid_row": null,
       "grid_template_areas": null,
       "grid_template_columns": null,
       "grid_template_rows": null,
       "height": null,
       "justify_content": null,
       "justify_items": null,
       "left": null,
       "margin": null,
       "max_height": null,
       "max_width": null,
       "min_height": null,
       "min_width": null,
       "object_fit": null,
       "object_position": null,
       "order": null,
       "overflow": null,
       "overflow_x": null,
       "overflow_y": null,
       "padding": null,
       "right": null,
       "top": null,
       "visibility": null,
       "width": null
      }
     },
     "7252971e397f4307b08af7faf2f14c7a": {
      "model_module": "@jupyter-widgets/controls",
      "model_module_version": "1.5.0",
      "model_name": "ProgressStyleModel",
      "state": {
       "_model_module": "@jupyter-widgets/controls",
       "_model_module_version": "1.5.0",
       "_model_name": "ProgressStyleModel",
       "_view_count": null,
       "_view_module": "@jupyter-widgets/base",
       "_view_module_version": "1.2.0",
       "_view_name": "StyleView",
       "bar_color": null,
       "description_width": ""
      }
     },
     "8a5bac351230450d92e028d55b991a96": {
      "model_module": "@jupyter-widgets/controls",
      "model_module_version": "1.5.0",
      "model_name": "HTMLModel",
      "state": {
       "_dom_classes": [],
       "_model_module": "@jupyter-widgets/controls",
       "_model_module_version": "1.5.0",
       "_model_name": "HTMLModel",
       "_view_count": null,
       "_view_module": "@jupyter-widgets/controls",
       "_view_module_version": "1.5.0",
       "_view_name": "HTMLView",
       "description": "",
       "description_tooltip": null,
       "layout": "IPY_MODEL_e45b9efd33e747f9aece257d53ed9ba9",
       "placeholder": "​",
       "style": "IPY_MODEL_92d506e06ff54f4e908ed2b15ef974e7",
       "value": "100%"
      }
     },
     "92d506e06ff54f4e908ed2b15ef974e7": {
      "model_module": "@jupyter-widgets/controls",
      "model_module_version": "1.5.0",
      "model_name": "DescriptionStyleModel",
      "state": {
       "_model_module": "@jupyter-widgets/controls",
       "_model_module_version": "1.5.0",
       "_model_name": "DescriptionStyleModel",
       "_view_count": null,
       "_view_module": "@jupyter-widgets/base",
       "_view_module_version": "1.2.0",
       "_view_name": "StyleView",
       "description_width": ""
      }
     },
     "a7b02b68d37d4282a8b6e73ee2ae5f22": {
      "model_module": "@jupyter-widgets/controls",
      "model_module_version": "1.5.0",
      "model_name": "DescriptionStyleModel",
      "state": {
       "_model_module": "@jupyter-widgets/controls",
       "_model_module_version": "1.5.0",
       "_model_name": "DescriptionStyleModel",
       "_view_count": null,
       "_view_module": "@jupyter-widgets/base",
       "_view_module_version": "1.2.0",
       "_view_name": "StyleView",
       "description_width": ""
      }
     },
     "cfe86bd6c7ff4c50b70ed6ed2526dfc9": {
      "model_module": "@jupyter-widgets/base",
      "model_module_version": "1.2.0",
      "model_name": "LayoutModel",
      "state": {
       "_model_module": "@jupyter-widgets/base",
       "_model_module_version": "1.2.0",
       "_model_name": "LayoutModel",
       "_view_count": null,
       "_view_module": "@jupyter-widgets/base",
       "_view_module_version": "1.2.0",
       "_view_name": "LayoutView",
       "align_content": null,
       "align_items": null,
       "align_self": null,
       "border": null,
       "bottom": null,
       "display": null,
       "flex": null,
       "flex_flow": null,
       "grid_area": null,
       "grid_auto_columns": null,
       "grid_auto_flow": null,
       "grid_auto_rows": null,
       "grid_column": null,
       "grid_gap": null,
       "grid_row": null,
       "grid_template_areas": null,
       "grid_template_columns": null,
       "grid_template_rows": null,
       "height": null,
       "justify_content": null,
       "justify_items": null,
       "left": null,
       "margin": null,
       "max_height": null,
       "max_width": null,
       "min_height": null,
       "min_width": null,
       "object_fit": null,
       "object_position": null,
       "order": null,
       "overflow": null,
       "overflow_x": null,
       "overflow_y": null,
       "padding": null,
       "right": null,
       "top": null,
       "visibility": null,
       "width": null
      }
     },
     "e45b9efd33e747f9aece257d53ed9ba9": {
      "model_module": "@jupyter-widgets/base",
      "model_module_version": "1.2.0",
      "model_name": "LayoutModel",
      "state": {
       "_model_module": "@jupyter-widgets/base",
       "_model_module_version": "1.2.0",
       "_model_name": "LayoutModel",
       "_view_count": null,
       "_view_module": "@jupyter-widgets/base",
       "_view_module_version": "1.2.0",
       "_view_name": "LayoutView",
       "align_content": null,
       "align_items": null,
       "align_self": null,
       "border": null,
       "bottom": null,
       "display": null,
       "flex": null,
       "flex_flow": null,
       "grid_area": null,
       "grid_auto_columns": null,
       "grid_auto_flow": null,
       "grid_auto_rows": null,
       "grid_column": null,
       "grid_gap": null,
       "grid_row": null,
       "grid_template_areas": null,
       "grid_template_columns": null,
       "grid_template_rows": null,
       "height": null,
       "justify_content": null,
       "justify_items": null,
       "left": null,
       "margin": null,
       "max_height": null,
       "max_width": null,
       "min_height": null,
       "min_width": null,
       "object_fit": null,
       "object_position": null,
       "order": null,
       "overflow": null,
       "overflow_x": null,
       "overflow_y": null,
       "padding": null,
       "right": null,
       "top": null,
       "visibility": null,
       "width": null
      }
     },
     "fe97ade4ecf140dca1b461f4ff663555": {
      "model_module": "@jupyter-widgets/controls",
      "model_module_version": "1.5.0",
      "model_name": "FloatProgressModel",
      "state": {
       "_dom_classes": [],
       "_model_module": "@jupyter-widgets/controls",
       "_model_module_version": "1.5.0",
       "_model_name": "FloatProgressModel",
       "_view_count": null,
       "_view_module": "@jupyter-widgets/controls",
       "_view_module_version": "1.5.0",
       "_view_name": "ProgressView",
       "bar_style": "success",
       "description": "",
       "description_tooltip": null,
       "layout": "IPY_MODEL_cfe86bd6c7ff4c50b70ed6ed2526dfc9",
       "max": 100.0,
       "min": 0.0,
       "orientation": "horizontal",
       "style": "IPY_MODEL_7252971e397f4307b08af7faf2f14c7a",
       "value": 100.0
      }
     }
    },
    "version_major": 2,
    "version_minor": 0
   }
  }
 },
 "nbformat": 4,
 "nbformat_minor": 5
}
